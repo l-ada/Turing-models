{
 "cells": [
  {
   "cell_type": "markdown",
   "metadata": {},
   "source": [
    "Brusselator for exluded volume in 1D"
   ]
  },
  {
   "cell_type": "code",
   "execution_count": null,
   "metadata": {},
   "outputs": [],
   "source": [
    "import numpy as np\n",
    "from scipy.fft import fftn, ifftn, fftfreq\n",
    "from matplotlib import pyplot as plt\n",
    "from mpl_toolkits import mplot3d\n",
    "from matplotlib import cm\n",
    "from matplotlib.animation import FuncAnimation\n",
    "from IPython.display import HTML\n",
    "from matplotlib import rc\n",
    "import matplotlib.animation as animation\n",
    "%matplotlib inline\n",
    "\n",
    "\n",
    "def create_initial_array(num_of_nodes, ampl = 0.1):\n",
    "        return np.random.rand(num_of_nodes) * ampl\n",
    "    #return initial concentration of substance. Can be random, should be positive\n",
    "\n",
    "\n",
    "class Brusselator():\n",
    "    def __init__(self, N = 100, L = 40*np.pi, a=1.5, b=2.34, D0=2.8, D1=22.4, NUM_STEPS=10**4, dt = 0.005, method = 'pseudo-spectral'):\n",
    "        self.N = N\n",
    "        self.L = L\n",
    "        self.a = a\n",
    "        self.b = b\n",
    "        self.D0 = D0\n",
    "        self.D1 = D1\n",
    "        self.NUM_STEPS = NUM_STEPS\n",
    "        self.dt = dt\n",
    "        fu = lambda u,v: self.a + (u**2)*v - (self.b+1)*u\n",
    "        fv = lambda u,v: self.b*u-(u**2)*v\n",
    "        self.fu = fu\n",
    "        self.fv = fv\n",
    "        self.method = method\n",
    "# code for initializing data, so that the same model can be run for different methods.\n",
    "        base_state_u = self.a\n",
    "        base_state_v = self.b/self.a\n",
    "        # self.initial_data_u = create_initial_array(self.N)+base_state_u\n",
    "        self.initial_data_u = create_initial_array(self.N)+base_state_u        \n",
    "        self.initial_data_v = create_initial_array(self.N)+base_state_v\n",
    "\n",
    "    def print_parameters(self):\n",
    "        return f\"Simulation for a={self.a},b={self.b},NUM_STEPS={self.NUM_STEPS},N={self.N}, D0={self.D0}, D1={self.D1}, dt = {self.dt}, L={self.L}\""
   ]
  },
  {
   "cell_type": "code",
   "execution_count": null,
   "metadata": {},
   "outputs": [],
   "source": [
    "def create_wavenumber_array(num_modes, L):\n",
    "    # create array for wavenumbers in scipy format.\n",
    "    num_modes = num_modes - num_modes%2 # make num of nodes even. Why?\n",
    "    # this causes the program not to work for odd num_nodes\n",
    "    # FIX THIS!\n",
    "    wavenum_array = np.zeros(num_modes)\n",
    "    wavenum = 2*np.pi/L\n",
    "    p1 = np.array([(wavenum * i) for i in range(int(num_modes/2))])\n",
    "    p2 = np.array([wavenum * (-num_modes+n) for n in range(int(num_modes/2), num_modes)])\n",
    "    wavenum_array = np.concatenate((p1,p2))\n",
    "    return wavenum_array\n",
    "\n",
    "def create_time_operator(wavenums, diffusion_coeff, timestep, two_dim = True):\n",
    "    ## create a time evolution operator\n",
    "    wavenums = wavenums**2\n",
    "    return np.exp(-(wavenums)*timestep*diffusion_coeff)\n",
    "def apply_step_fourier(u,operator):\n",
    "        fft_u = fftn(u)\n",
    "        fft_u = fft_u*operator\n",
    "        return ifftn(fft_u).real\n",
    "\n",
    "## Von Neumann boundary conditions\n",
    "def apply_boundary_condition(Z):\n",
    "    Z[0, :] = Z[1, :]\n",
    "    Z[-1, :] = Z[-2, :]\n",
    "    Z[:, 0] = Z[:, 1]\n",
    "    Z[:, -1] = Z[:, -2]\n",
    "    return Z"
   ]
  }
 ],
 "metadata": {
  "language_info": {
   "name": "python"
  }
 },
 "nbformat": 4,
 "nbformat_minor": 2
}
