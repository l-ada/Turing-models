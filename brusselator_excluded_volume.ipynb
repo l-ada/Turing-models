{
 "cells": [
  {
   "cell_type": "markdown",
   "metadata": {},
   "source": [
    "Brusselator for exluded volume in 1D"
   ]
  },
  {
   "cell_type": "code",
   "execution_count": 57,
   "metadata": {},
   "outputs": [],
   "source": [
    "import numpy as np\n",
    "from scipy.fft import fftn, ifftn, fftfreq\n",
    "from matplotlib import pyplot as plt\n",
    "from mpl_toolkits import mplot3d\n",
    "from matplotlib import cm\n",
    "from matplotlib.animation import FuncAnimation\n",
    "from IPython.display import HTML\n",
    "from matplotlib import rc\n",
    "import matplotlib.animation as animation\n",
    "%matplotlib inline\n",
    "\n",
    "\n",
    "def create_initial_array(num_of_nodes, ampl = 0.1):\n",
    "        return (np.random.rand(num_of_nodes)-0.5) * ampl\n",
    "    #return initial concentration of substance. Can be random, should be positive\n",
    "\n",
    "\n",
    "class Brusselator():\n",
    "    def __init__(self, N = 100, L = 10*np.pi, a=1.5, b=2.34, D0=2.8, D1=22.4, NUM_STEPS=10**4, dt = 0.005, c=10, method = 'pseudo-spectral'):\n",
    "        self.N = N\n",
    "        self.L = L\n",
    "        self.a = a\n",
    "        self.b = b\n",
    "        self.D0 = D0\n",
    "        self.D1 = D1\n",
    "        self.NUM_STEPS = NUM_STEPS\n",
    "        self.dt = dt\n",
    "        self.c = c\n",
    "        fu = lambda u,v: self.a + (u**2)*v - (self.b+1)*u\n",
    "        fv = lambda u,v: self.b*u-(u**2)*v\n",
    "        self.fu = fu\n",
    "        self.fv = fv\n",
    "        self.method = method\n",
    "# code for initializing data, so that the same model can be run for different methods.\n",
    "        base_state_u = self.a\n",
    "        base_state_v = self.b/self.a\n",
    "        # self.initial_data_u = create_initial_array(self.N)+base_state_u\n",
    "        self.initial_data_u = create_initial_array(self.N)+base_state_u        \n",
    "        self.initial_data_v = create_initial_array(self.N)+base_state_v\n",
    "\n",
    "    def print_parameters(self):\n",
    "        return f\"Simulation for a={self.a},b={self.b},c={self.c} ,NUM_STEPS={self.NUM_STEPS},N={self.N}, D0={self.D0}, D1={self.D1}, dt = {self.dt}, L={self.L}\""
   ]
  },
  {
   "cell_type": "code",
   "execution_count": 58,
   "metadata": {},
   "outputs": [],
   "source": [
    "def create_wavenumber_array(num_modes, L):\n",
    "    # create array for wavenumbers in scipy format.\n",
    "    num_modes = num_modes - num_modes%2 # make num of nodes even. Why?\n",
    "    # this causes the program not to work for odd num_nodes\n",
    "    # FIX THIS!\n",
    "    wavenum_array = np.zeros(num_modes)\n",
    "    wavenum = 2*np.pi/L\n",
    "    p1 = np.array([(wavenum * i) for i in range(int(num_modes/2))])\n",
    "    p2 = np.array([wavenum * (-num_modes+n) for n in range(int(num_modes/2), num_modes)])\n",
    "    wavenum_array = np.concatenate((p1,p2))\n",
    "    return wavenum_array\n",
    "\n",
    "def create_time_operator(wavenums, diffusion_coeff, timestep):\n",
    "    ## create a time evolution operator\n",
    "    wavenums = wavenums**2\n",
    "    return np.exp(-(wavenums)*timestep*diffusion_coeff)\n",
    "def apply_step_fourier(u,operator):\n",
    "        fft_u = fftn(u)\n",
    "        fft_u = fft_u*operator\n",
    "        return ifftn(fft_u).real\n",
    "\n",
    "## Von Neumann boundary conditions\n",
    "# # def apply_boundary_condition(Z):\n",
    "#     Z[1] = Z[0]\n",
    "#     Z[-2] Z[-1]\n",
    "#     return Z\n",
    "#     return Z\n",
    "def periodic_boundary(Z):\n",
    "     Z[0]= Z[-1]\n",
    "     return Z\n",
    "def nonlinear_step(u_main, v, c, wavenums):\n",
    "    u = u_main\n",
    "    R = c-u-v\n",
    "    mu = -np.log(R)\n",
    "    ## first derivative\n",
    "    mu = 1j*wavenums*fftn(mu)\n",
    "    mu = u*ifftn(mu).real\n",
    "    ## second derivative\n",
    "    mu = 1j*wavenums*fftn(mu)\n",
    "    mu = ifftn(mu).real\n",
    "    return mu\n",
    "\n",
    "     "
   ]
  },
  {
   "cell_type": "code",
   "execution_count": 59,
   "metadata": {},
   "outputs": [],
   "source": [
    "def perform_simulation(brusselator_class = Brusselator(), save_full = False):\n",
    "    a, b, D0, D1 = brusselator_class.a, brusselator_class.b, brusselator_class.D0, brusselator_class.D1\n",
    "    N, L, NUM_STEPS, dt = brusselator_class.N, brusselator_class.L, brusselator_class.NUM_STEPS, brusselator_class.dt\n",
    "    method, fu, fv = brusselator_class.method, brusselator_class.fu, brusselator_class.fv\n",
    "    dx = L / N\n",
    "    savetimes = [0, NUM_STEPS//2, NUM_STEPS-2]\n",
    "    c = brusselator_class.c\n",
    "\n",
    "    initial_data_u = brusselator_class.initial_data_u\n",
    "    initial_data_v = brusselator_class.initial_data_v\n",
    "\n",
    "    wavenums = create_wavenumber_array(N, L)\n",
    "\n",
    "    operator_u = create_time_operator(wavenums, D0, dt)\n",
    "    operator_v = create_time_operator(wavenums, D1, dt)\n",
    "\n",
    "##initialize data\n",
    "    u = initial_data_u.copy()\n",
    "    v = initial_data_v.copy()\n",
    "\n",
    "    u_saved = []\n",
    "    v_saved = []\n",
    "    if save_full == True:\n",
    "        time = np.empty(NUM_STEPS)\n",
    "        time[0] = 0\n",
    "        shape = time.shape+initial_data_u.shape\n",
    "        conc_u = np.empty(shape)\n",
    "        conc_v = np.empty(shape)\n",
    "\n",
    "    for i in range(NUM_STEPS-1):\n",
    "        if save_full == True:\n",
    "            conc_u[i] = u.copy()\n",
    "            conc_v[i] = v.copy()\n",
    "            time[i] = i*dt\n",
    "\n",
    "        if save_full == False:\n",
    "            if i in savetimes:\n",
    "                u_saved.append(u.copy())\n",
    "                v_saved.append(v.copy())\n",
    "\n",
    "## checking progress\n",
    "        k = 100\n",
    "        if i%k == 0:\n",
    "            progress = float(i/NUM_STEPS)\n",
    "            print(f\"Progress: {progress}\", end='\\r', flush=True)\n",
    "\n",
    "        if method == 'pseudo-spectral':\n",
    "            nonlin_u = u + (D0*nonlinear_step(u, v, c, wavenums)+fu(u,v))*dt\n",
    "            nonlin_v = v + (D1*nonlinear_step(v, u, c, wavenums)+fv(u,v))*dt\n",
    "            u = apply_step_fourier(nonlin_u, operator_u)\n",
    "            v = apply_step_fourier(nonlin_v, operator_v)\n",
    "\n",
    "            ## periodic boundary conditions\n",
    "            u[0]=u[-1]\n",
    "            v[0]=v[-1]\n",
    "\n",
    "    if save_full == True:\n",
    "        return time, conc_u, conc_v\n",
    "    else:\n",
    "        return u_saved, v_saved\n"
   ]
  },
  {
   "cell_type": "code",
   "execution_count": 60,
   "metadata": {},
   "outputs": [
    {
     "name": "stdout",
     "output_type": "stream",
     "text": [
      "Progress: 0.9\r"
     ]
    },
    {
     "data": {
      "image/png": "[encoded data removed]",
      "text/plain": [
       "<Figure size 432x288 with 1 Axes>"
      ]
     },
     "metadata": {
      "needs_background": "light"
     },
     "output_type": "display_data"
    }
   ],
   "source": [
    "### 1D ###\n",
    "br = Brusselator(a=1,b= 2,c=10, D0=1, D1=1, N=200 ,NUM_STEPS=10**3)\n",
    "L = br.L\n",
    "N = br.N\n",
    "u,v= perform_simulation(br)\n",
    "type(u)\n",
    "time=[0,N//2,N-2]\n",
    "xs = np.arange(0.0,L,L/N)\n",
    "# Plot u(x) for different time points\n",
    "color=['black','blue','red']\n",
    "fig = plt.figure()\n",
    "ax1 = fig.add_subplot(111)\n",
    "indices=[0, 1, 2]\n",
    "ax1.plot(xs,br.a *np.ones((100,1)))\n",
    "for i in indices:\n",
    "    ax1.plot(xs, u[i], label = time[i], c=color[i])\n",
    "ax1.legend()\n",
    "# ax1.legend()\n",
    "\n",
    "plt.show()\n",
    "# br.print_parameters()"
   ]
  },
  {
   "cell_type": "code",
   "execution_count": 61,
   "metadata": {},
   "outputs": [
    {
     "name": "stdout",
     "output_type": "stream",
     "text": [
      "Progress: 0.9\r"
     ]
    },
    {
     "name": "stderr",
     "output_type": "stream",
     "text": [
      "Exception ignored in: <function TransformNode.set_children.<locals>.<lambda> at 0x7f6264cf6b00>\n",
      "Traceback (most recent call last):\n",
      "  File \"/usr/lib/python3/dist-packages/matplotlib/transforms.py\", line 222, in <lambda>\n",
      "    self, lambda _, pop=child._parents.pop, k=id(self): pop(k))\n",
      "KeyboardInterrupt: \n"
     ]
    }
   ],
   "source": [
    "## Plot u(x,y) as animation (2D)\n",
    "time, u, v = perform_simulation(br, save_full=True)\n",
    "## less data to show\n",
    "xs = np.arange(0.0,L,L/N)\n",
    "\n",
    "fig  = plt.figure()\n",
    "ax   = plt.subplot(111)\n",
    "i=0\n",
    "\n",
    "def animate(i):\n",
    "    ax.cla()\n",
    "    fond = ax.plot(xs,u[i])\n",
    "    return fond\n",
    "\n",
    "anim = animation.FuncAnimation(fig, animate, frames=range(u.shape[0]), interval=100, repeat_delay=1000)\n",
    "rc('animation', html='jshtml')\n",
    "\n",
    "plt.close(anim._fig)\n",
    "HTML(anim.to_jshtml())\n"
   ]
  },
  {
   "cell_type": "code",
   "execution_count": null,
   "metadata": {},
   "outputs": [],
   "source": []
  }
 ],
 "metadata": {
  "kernelspec": {
   "display_name": "Python 3",
   "language": "python",
   "name": "python3"
  },
  "language_info": {
   "codemirror_mode": {
    "name": "ipython",
    "version": 3
   },
   "file_extension": ".py",
   "mimetype": "text/x-python",
   "name": "python",
   "nbconvert_exporter": "python",
   "pygments_lexer": "ipython3",
   "version": "3.10.12"
  }
 },
 "nbformat": 4,
 "nbformat_minor": 2
}
