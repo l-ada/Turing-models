{
 "cells": [
  {
   "cell_type": "markdown",
   "id": "3f47d355",
   "metadata": {},
   "source": [
    "Modeling the brusselator"
   ]
  },
  {
   "cell_type": "markdown",
   "id": "8fa8df25",
   "metadata": {},
   "source": [
    "Brusselator:\n",
    "\n",
    "$$\\dot u = D_0\\triangle u +a - (b+1)u + u^2v$$\n",
    "$$ \\dot v = D_1\\triangle v + bu - u^2v$$\n",
    "or in other words\n",
    "\n",
    "$$\\dot u = D_0\\triangle u +f_u$$\n",
    "$$ \\dot v = D_1\\triangle v +f_v$$"
   ]
  },
  {
   "cell_type": "code",
   "execution_count": 30,
   "id": "952f3ba9",
   "metadata": {},
   "outputs": [],
   "source": [
    "import numpy as np\n",
    "from scipy.fft import fftn, ifftn, fftfreq\n",
    "from matplotlib import pyplot as plt\n",
    "from mpl_toolkits import mplot3d\n",
    "from matplotlib import cm\n",
    "from matplotlib.animation import FuncAnimation\n",
    "from IPython.display import HTML\n",
    "from matplotlib import rc\n",
    "import matplotlib.animation as animation\n",
    "%matplotlib inline\n",
    "\n",
    "def create_initial_array(num_of_nodes, ampl = 0.1):\n",
    "    #return initial concentration of substance. Can be random, should be positive\n",
    "    return np.random.rand(num_of_nodes,num_of_nodes) * ampl\n",
    "# for now\n",
    "class Brusselator():\n",
    "    def __init__(self,N = 100, L = 40*np.pi, a=1.5, b=2.34, D0=2.8, D1=22.4, NUM_STEPS=10**4, dt = 0.05, method = 'pseudo-spectral'):\n",
    "        self.N = N\n",
    "        self.L = L\n",
    "        self.a = a\n",
    "        self.b = b\n",
    "        self.D0 = D0\n",
    "        self.D1 = D1\n",
    "        self.NUM_STEPS = NUM_STEPS\n",
    "        self.dt = dt\n",
    "        fu = lambda u,v: a + (u**2)*v - (b+1)*u\n",
    "        fv = lambda u,v: b*u-(u**2)*v\n",
    "        self.fu = fu\n",
    "        self.fv = fv\n",
    "        self.method = method\n",
    "## code for initializing data, so that the same model can be run for different methods.\n",
    "\n",
    "    #     self.initial_data_u = create_initial_array(self.N)\n",
    "    #     self.initial_data_v = create_initial_array(self.N)\n",
    "    # def update_initial_data(new_data_u, new_data_v):\n",
    "    #     self.initial_data_u = new_data_u\n",
    "    #     self.initial_data_v = new_data_v\n",
    "    #     self.N = new_data_u.shape[0]\n",
    "\n",
    "    # def get_equation_parameters(self):\n",
    "    #     return \\\n",
    "    #     self.a,\\\n",
    "    #     self.b,\\\n",
    "    #     self.D0,\\\n",
    "    #     self.D1\n",
    "    # def get_simulation_parameters(self):\n",
    "    #     return \\\n",
    "    #     self.N,\\\n",
    "    #     self.L,\\\n",
    "    #     self.NUM_STEPS,\\\n",
    "    #     self.dt\n",
    "    # def get_function(self):\n",
    "    #     return self.fu, self.fv\n",
    "    # def get_method(self):\n",
    "    #     return self.method"
   ]
  },
  {
   "cell_type": "code",
   "execution_count": 31,
   "id": "6458d1a3",
   "metadata": {},
   "outputs": [],
   "source": [
    "\n",
    "def create_wavenumber_array(num_modes, L):\n",
    "    # create array for wavenumbers in scipy format.\n",
    "    num_modes = num_modes - num_modes%2 # make num of nodes even. Why?\n",
    "    # this causes the program not to work for odd num_nodes\n",
    "    # FIX THIS!\n",
    "    wavenum_array = np.zeros(num_modes)\n",
    "    wavenum = 2*np.pi/L\n",
    "    p1 = np.array([(wavenum * i) for i in range(int(num_modes/2))])\n",
    "    p2 = np.array([wavenum * (-num_modes+n) for n in range(int(num_modes/2), num_modes)])\n",
    "    wavenum_array = np.concatenate((p1,p2))\n",
    "    return wavenum_array\n",
    "\n",
    "def create_time_operator(wavenums, diffusion_coeff, timestep):\n",
    "    ## create a time evolution operator\n",
    "    wavenums = wavenums**2\n",
    "    wavenums_sq = wavenums[:, np.newaxis] + wavenums[np.newaxis, :]\n",
    "    # wavenums_sq = wavenums[:, np.newaxis]+wavenums\n",
    "    operator = np.exp((-wavenums_sq)*timestep*diffusion_coeff)\n",
    "    return operator\n",
    "\n",
    "def apply_step_fourier(u,operator):\n",
    "        fft_u = fftn(u)\n",
    "        fft_u = fft_u*operator\n",
    "        return ifftn(fft_u).real\n",
    "\n",
    "def laplacian(Z, dx):\n",
    "    Ztop = Z[0:-2, 1:-1]\n",
    "    Zleft = Z[1:-1, 0:-2]\n",
    "    Zbottom = Z[2:, 1:-1]\n",
    "    Zright = Z[1:-1, 2:]\n",
    "    Zcenter = Z[1:-1, 1:-1]\n",
    "    return (Ztop + Zleft + Zbottom + Zright -\n",
    "            4 * Zcenter) / dx**2\n",
    "# von Neumann boundary conditions (no penetration)\n",
    "def apply_boundary_condition(Z):\n",
    "    Z[0, :] = Z[1, :]\n",
    "    Z[-1, :] = Z[-2, :]\n",
    "    Z[:, 0] = Z[:, 1]\n",
    "    Z[:, -1] = Z[:, -2]\n",
    "    return Z\n",
    "     \n",
    "## according to GPT it is fine"
   ]
  },
  {
   "cell_type": "code",
   "execution_count": 32,
   "id": "7b660676",
   "metadata": {},
   "outputs": [],
   "source": [
    "def perform_simulation(brusselator_class = Brusselator(), save_full = False):\n",
    "    a, b, D0, D1 = brusselator_class.a, brusselator_class.b, brusselator_class.D0, brusselator_class.D1\n",
    "    N, L, NUM_STEPS, dt = brusselator_class.N, brusselator_class.L, brusselator_class.NUM_STEPS, brusselator_class.dt\n",
    "    method, fu, fv = brusselator_class.method, brusselator_class.fu, brusselator_class.fv\n",
    "    dx = L / N\n",
    "    savetimes = [0, NUM_STEPS//2, NUM_STEPS-2]\n",
    "    # initialize data\n",
    "\n",
    "    #modified this part\n",
    "    initial_data_u = create_initial_array(N)\n",
    "    initial_data_v = create_initial_array(N)\n",
    "    # initial_data_u = brusselator_class.initial_data_u\n",
    "    # initial_data_v = brusselator_class.initial_data_v\n",
    "    wavenums = create_wavenumber_array(N, L)\n",
    "\n",
    "    ## initialize operators\n",
    "    operator_u = create_time_operator(wavenums, D0, dt)\n",
    "    operator_v = create_time_operator(wavenums, D1, dt)\n",
    "    \n",
    "    ##initialize data\n",
    "    u = initial_data_u.copy()\n",
    "    v = initial_data_v.copy()\n",
    "\n",
    "    u_saved = []\n",
    "    v_saved = []\n",
    "\n",
    "    ## initialize saved data\n",
    "    # shape = savetimes.shape+initial_data_u.shape    \n",
    "    if save_full == True:\n",
    "        time = np.empty(NUM_STEPS)\n",
    "        time[0] = 0\n",
    "        shape = time.shape+initial_data_u.shape\n",
    "        conc_u = np.empty(shape)\n",
    "        conc_v = np.empty(shape)\n",
    "\n",
    "    ## begin calculations\n",
    "    ## I could make it prettier. Create save_resutls function\n",
    "    for i in range(NUM_STEPS-1):\n",
    "        if save_full == True:\n",
    "            conc_u[i] = u.copy()\n",
    "            conc_v[i] = v.copy()\n",
    "\n",
    "        if save_full == False:\n",
    "            if i in savetimes:\n",
    "                u_saved.append(u.copy())\n",
    "                v_saved.append(v.copy())\n",
    "\n",
    "        ## checking progress\n",
    "        k = 100\n",
    "        if i%k == 0:\n",
    "            progress = float(i/NUM_STEPS)\n",
    "            print(f\"Progress: {progress}\", end='\\r', flush=True)\n",
    "        ## apply euler scheme\n",
    "        if method == 'pseudo-spectral':\n",
    "            nonlin_u = u + fu(u,v)*dt\n",
    "            nonlin_v = v + fv(u,v)*dt\n",
    "    \n",
    "            ## apply step in frequency domain and go back\n",
    "            u = apply_step_fourier(nonlin_u, operator_u)\n",
    "            v = apply_step_fourier(nonlin_v, operator_v)\n",
    "        elif method == 'finite-difference':\n",
    "            # print(method)\n",
    "            deltaU = laplacian(u,dx)\n",
    "            deltaV = laplacian(v,dx)\n",
    "\n",
    "            uc,vc = u[1:-1, 1:-1],v[1:-1, 1:-1]\n",
    "\n",
    "            u[1:-1, 1:-1] +=  dt*(D0*deltaU+ fu(uc,vc))\n",
    "            v[1:-1, 1:-1] +=  dt*(D1*deltaV+ fv(uc,vc))\n",
    "            \n",
    "            u = apply_boundary_condition(u)\n",
    "            v = apply_boundary_condition(v)\n",
    "\n",
    "    if save_full == True:\n",
    "        return time, conc_u, conc_v\n",
    "    else:\n",
    "        return u_saved, v_saved\n"
   ]
  },
  {
   "cell_type": "code",
   "execution_count": null,
   "id": "af37c201",
   "metadata": {},
   "outputs": [],
   "source": []
  },
  {
   "cell_type": "markdown",
   "id": "9503fd8b",
   "metadata": {},
   "source": [
    "To check:\n",
    "\n",
    "oscillatory solution $b = 1+a^2$, needs animation\n",
    "\n",
    "amlitude evolution\n",
    "\n",
    "check for nghood of critical value\n",
    "\n",
    "check for wavenumber \n",
    "\n",
    "Tonks gas\n",
    "\n",
    "\n",
    "spectral methods for pdes\n",
    "\n",
    "\n",
    "chebyshev and fourier spectral method boyd\n",
    "\n",
    "add estimated time"
   ]
  },
  {
   "cell_type": "code",
   "execution_count": 33,
   "id": "93162a91",
   "metadata": {},
   "outputs": [],
   "source": [
    "\n",
    "\n",
    "def simulate_and_plot(brusselator_class ,name = \"default.png\", save = False):\n",
    "    a, b, D0, D1 = brusselator_class.a, brusselator_class.b, brusselator_class.D0, brusselator_class.D1\n",
    "    N, L, NUM_STEPS, dt = brusselator_class.N, brusselator_class.L, brusselator_class.NUM_STEPS, brusselator_class.dt\n",
    "    # method, fu, fv = brusselator_class.method, brusselator_class.fu, brusselator_class.fv\n",
    "    dx = L / N\n",
    "\n",
    "    data_u, data_v = perform_simulation(brusselator_class)\n",
    "    # time, u, data_v = perform_simulation(brusselator_class, save_full=True)\n",
    "    # data_u = [u[0],u[NUM_STEPS//2], u[NUM_STEPS-2]]\n",
    "\n",
    "    xs = np.arange(0.0,L,dx)\n",
    "    ys = np.arange(0.0,L,dx)\n",
    "    # print(f\"time = {dt*NUM_STEPS}\")\n",
    "    X,Y = np.meshgrid(xs,ys)\n",
    "\n",
    "    from matplotlib import animation, rc\n",
    "    from IPython.display import HTML\n",
    "\n",
    "    fig = plt.figure(figsize=(27,15))\n",
    "    fig.suptitle(f\"Simulation for a={a},b={b},NUM_STEPS={NUM_STEPS},N={N}, D0={D0}, D1={D1}, dt = {dt}, L={L}\", fontsize =12)  \n",
    "    ax1 = fig.add_subplot(231)\n",
    "    ax2 = fig.add_subplot(232)\n",
    "    ax3 = fig.add_subplot(233)\n",
    "\n",
    "    ax1.pcolormesh(X, Y, data_u[0], shading='auto')\n",
    "    ax2.pcolormesh(X, Y, data_u[1], shading='auto')\n",
    "    ax3.pcolormesh(X, Y, data_u[2], shading='auto')\n",
    "    ax3.set_title(f\"time={dt*NUM_STEPS}\")\n",
    "    # another plot\n",
    "    # def show_patterns(U, ax=None):\n",
    "    #     ax.imshow(U, cmap=plt.cm.copper,\n",
    "    #             interpolation='bilinear',\n",
    "    #             extent=[-1, 1, -1, 1])\n",
    "    #     ax.set_axis_off()\n",
    "    # U=data_u[2]\n",
    "    # fig, ax = plt.subplots(1, 1, figsize=(8, 8))\n",
    "    # show_patterns(U, ax=ax)\n",
    "    if save == True:\n",
    "        fig.savefig(name, bbox_inches='tight')\n",
    "    plt.show()"
   ]
  },
  {
   "cell_type": "code",
   "execution_count": 34,
   "id": "14fd3f5f",
   "metadata": {},
   "outputs": [],
   "source": [
    "\n",
    "# brusselator_class = Brusselator(NUM_STEPS=100)\n",
    "def run_animation(brusselator_class = Brusselator(NUM_STEPS=100)):\n",
    "    fig, ax = plt.subplots()\n",
    "    t,u,v = perform_simulation(brusselator_class,save_full=True)\n",
    "    data_red = u[::40,:,:]\n",
    "    # data_red = u\n",
    "    # N, L, NUM_STEPS, dt = brusselator_class.get_simulation_parameters()\n",
    "    N, L, NUM_STEPS, dt = brusselator_class.N, brusselator_class.L, brusselator_class.NUM_STEPS, brusselator_class.dt\n",
    "\n",
    "    xs = np.arange(0.0,L,L/N)\n",
    "    ys = np.arange(0.0,L,L/N)\n",
    "\n",
    "    X,Y = np.meshgrid(xs,ys)\n",
    "\n",
    "\n",
    "    i=0\n",
    "    fig  = plt.figure()\n",
    "    ax   = plt.subplot(111)\n",
    "    fond = ax.pcolormesh(X, Y, data_red[i], shading='auto')\n",
    "\n",
    "    def animate(i):\n",
    "        ax.cla()\n",
    "        fond = ax.pcolormesh(X, Y, data_red[i], shading='auto')\n",
    "        return fond\n",
    "\n",
    "    anim = animation.FuncAnimation(fig, animate, frames=range(data_red.shape[0]), interval=100, repeat_delay=1000)\n",
    "    rc('animation', html='jshtml')\n",
    "\n",
    "    plt.close(anim._fig)\n",
    "    HTML(anim.to_jshtml())\n",
    "    # anim.save(\"animation2.gif\", writer='imagemagick', fps=15)\n",
    "    FFwriter = animation.FFMpegWriter(fps=10)\n",
    "    # anim.save('animation.mp4', writer = FFwriter)\n",
    "    return anim"
   ]
  },
  {
   "cell_type": "code",
   "execution_count": 35,
   "id": "c02913aa",
   "metadata": {},
   "outputs": [
    {
     "name": "stdout",
     "output_type": "stream",
     "text": [
      "Progress: 0.9\r"
     ]
    },
    {
     "data": {
      "image/png": "[encoded data removed]",
      "text/plain": [
       "<Figure size 1944x1080 with 3 Axes>"
      ]
     },
     "metadata": {
      "needs_background": "light"
     },
     "output_type": "display_data"
    }
   ],
   "source": [
    "# simulate_and_plot(Brusselator())\n",
    "a = 0\n",
    "b = 0\n",
    "# method = 'finite-difference'\n",
    "method = 'pseudo-spectral'\n",
    "bruss = Brusselator(NUM_STEPS=10**3, N=6,L=600, dt = 0.005, D0=1, D1=1, method=method)\n",
    "bruss.fu = lambda u,v:0.0\n",
    "bruss.fv = lambda u,v:0.0\n",
    "simulate_and_plot(bruss)\n",
    "# anim = run_animation(bruss)\n",
    "# anim\n",
    "# HTML(anim.to_jshtml())"
   ]
  },
  {
   "cell_type": "code",
   "execution_count": 39,
   "id": "06541c05",
   "metadata": {},
   "outputs": [
    {
     "name": "stdout",
     "output_type": "stream",
     "text": [
      "Progress: 0.0\r"
     ]
    },
    {
     "name": "stdout",
     "output_type": "stream",
     "text": [
      "Progress: 0.9\r"
     ]
    },
    {
     "data": {
      "image/png": "[encoded data removed]",
      "text/plain": [
       "<Figure size 432x288 with 1 Axes>"
      ]
     },
     "metadata": {
      "needs_background": "light"
     },
     "output_type": "display_data"
    },
    {
     "data": {
      "image/png": "[encoded data removed]",
      "text/plain": [
       "<Figure size 432x288 with 1 Axes>"
      ]
     },
     "metadata": {
      "needs_background": "light"
     },
     "output_type": "display_data"
    }
   ],
   "source": [
    "method = 'finite-difference'\n",
    "bruss = Brusselator(NUM_STEPS=10**3, dt = 0.005, method=method)\n",
    "anim = run_animation(bruss)\n",
    "FFwriter = animation.FFMpegWriter(fps=10)\n",
    "anim.save('finite_difference.mp4', writer = FFwriter)\n",
    "method = 'pseudo-spectral'\n",
    "bruss.method = method\n",
    "anim = run_animation(bruss)\n",
    "anim.save('pseudospectral.mp4', writer = FFwriter)\n"
   ]
  },
  {
   "cell_type": "code",
   "execution_count": null,
   "id": "2970237d",
   "metadata": {},
   "outputs": [],
   "source": [
    "# anim.save(\"faulty.gif\", writer='imagemagick', fps=15)\n",
    "# FFwriter = animation.FFMpegWriter(fps=10)\n",
    "# anim.save('faulty.mp4', writer = FFwriter)"
   ]
  },
  {
   "cell_type": "code",
   "execution_count": null,
   "id": "38b68c8b",
   "metadata": {},
   "outputs": [],
   "source": []
  },
  {
   "cell_type": "markdown",
   "id": "8860f704",
   "metadata": {},
   "source": [
    "I got nice results for\n",
    "\n",
    "N = 256\n",
    "\n",
    "L = 20\\pi\n",
    "\n",
    "a=1.5\n",
    "\n",
    "b=2.34\n",
    "\n",
    "D0=2.8\n",
    "\n",
    "D1 = 22.4\n",
    "\n",
    "dt = 0.05\n",
    "\n",
    "NUM_STEPS = 10**3\n",
    "\n",
    "FOR \n",
    "\n",
    "N = 1200\n",
    "a=1.5\n",
    "b=2.34\n",
    "D0=2.8\n",
    "D1 = 22.4\n",
    "dt = 0.05\n",
    "NUM_STEPS = 10**3\n",
    "Also interesting at least at time NUM_STEPS/2\n"
   ]
  },
  {
   "cell_type": "markdown",
   "id": "75a87715",
   "metadata": {},
   "source": [
    "Also interesting\n",
    "N = 200\n",
    "a=1.5\n",
    "b=2.34\n",
    "D0=2.8\n",
    "D1 = 22.4\n",
    "dt = 0.05\n",
    "NUM_STEPS = 10**3"
   ]
  },
  {
   "cell_type": "code",
   "execution_count": null,
   "id": "f1bdfd63",
   "metadata": {},
   "outputs": [],
   "source": []
  },
  {
   "cell_type": "markdown",
   "id": "f4b6bd5c",
   "metadata": {},
   "source": [
    "What do I want from the simulation?\n",
    "I want to be able to change the parameters rather easily. Or display a bunch of plots \n",
    "What parameters do I have?"
   ]
  }
 ],
 "metadata": {
  "kernelspec": {
   "display_name": "Python 3 (ipykernel)",
   "language": "python",
   "name": "python3"
  },
  "language_info": {
   "codemirror_mode": {
    "name": "ipython",
    "version": 3
   },
   "file_extension": ".py",
   "mimetype": "text/x-python",
   "name": "python",
   "nbconvert_exporter": "python",
   "pygments_lexer": "ipython3",
   "version": "3.10.12"
  }
 },
 "nbformat": 4,
 "nbformat_minor": 5
}
