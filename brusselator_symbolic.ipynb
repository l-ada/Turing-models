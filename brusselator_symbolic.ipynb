{
 "cells": [
  {
   "cell_type": "code",
   "execution_count": 1,
   "metadata": {},
   "outputs": [],
   "source": [
    "import sympy as sp\n",
    "from sympy.printing.latex import latex\n",
    "from IPython.display import display, Math\n",
    "# Define the symbols\n",
    "a, b, c, q, D, D1,D2 = sp.symbols('a b c q D D1 D2')\n",
    "# u, v= sp.symbols('u v')\n",
    "\n",
    "# Define u and v\n",
    "u = a\n",
    "v = b / a\n",
    "\n",
    "# Define R\n",
    "R = c - u - v"
   ]
  },
  {
   "cell_type": "code",
   "execution_count": 2,
   "metadata": {},
   "outputs": [
    {
     "data": {
      "text/latex": [
       "$\\displaystyle \\left[\\begin{matrix}- \\frac{D q^{2} \\left(c - \\frac{b}{a}\\right)}{- a + c - \\frac{b}{a}} + b - 1 & - \\frac{D a q^{2}}{- a + c - \\frac{b}{a}} + a^{2}\\\\- \\frac{D b q^{2}}{a \\left(- a + c - \\frac{b}{a}\\right)} - b & - \\frac{D q^{2} \\left(- a + c\\right)}{- a + c - \\frac{b}{a}} - a^{2}\\end{matrix}\\right]$"
      ],
      "text/plain": [
       "Matrix([\n",
       "[-D*q**2*(c - b/a)/(-a + c - b/a) + b - 1,        -D*a*q**2/(-a + c - b/a) + a**2],\n",
       "[        -D*b*q**2/(a*(-a + c - b/a)) - b, -D*q**2*(-a + c)/(-a + c - b/a) - a**2]])"
      ]
     },
     "metadata": {},
     "output_type": "display_data"
    },
    {
     "data": {
      "text/latex": [
       "$\\displaystyle \\frac{a \\left(- D^{2} c q^{4} + D q^{2} \\left(- a^{2} c + a + b c - c\\right) + a^{3} - a^{2} c + a b\\right)}{a^{2} - a c + b}$"
      ],
      "text/plain": [
       "a*(-D**2*c*q**4 + D*q**2*(-a**2*c + a + b*c - c) + a**3 - a**2*c + a*b)/(a**2 - a*c + b)"
      ]
     },
     "metadata": {},
     "output_type": "display_data"
    },
    {
     "data": {
      "text/latex": [
       "$\\displaystyle - \\frac{D^{2} a c}{a^{2} - a c + b}$"
      ],
      "text/plain": [
       "-D**2*a*c/(a**2 - a*c + b)"
      ]
     },
     "metadata": {},
     "output_type": "display_data"
    },
    {
     "name": "stdout",
     "output_type": "stream",
     "text": [
      "- \\frac{D^{2} a c}{a^{2} - a c + b}\n"
     ]
    },
    {
     "data": {
      "text/latex": [
       "$\\displaystyle \\frac{D^{2} c q^{4} + D a^{2} c q^{2} - D a q^{2} + D c q^{2} - a^{3} + a^{2} c}{D c q^{2} + a}$"
      ],
      "text/plain": [
       "(D**2*c*q**4 + D*a**2*c*q**2 - D*a*q**2 + D*c*q**2 - a**3 + a**2*c)/(D*c*q**2 + a)"
      ]
     },
     "metadata": {},
     "output_type": "display_data"
    },
    {
     "name": "stdout",
     "output_type": "stream",
     "text": [
      "(D**2*c*q**4 + D*a**2*c*q**2 - D*a*q**2 + D*c*q**2 - a**3 + a**2*c)/(D*c*q**2 + a)\n"
     ]
    }
   ],
   "source": [
    "\n",
    "\n",
    "# Define the matrix\n",
    "A_q = sp.Matrix([\n",
    "    [(b-1) - q**2 * (u + R)/R, a**2 - q**2 * u/R],\n",
    "    [(-b) - q**2 * v/R, (-a**2) - q**2 * (R + v)/R]\n",
    "])\n",
    "A = sp.Matrix([\n",
    "    [(b-1), a**2],\n",
    "    [(-b), (-a**2)]\n",
    "])\n",
    "D_m = D*sp.Matrix([\n",
    "    [(u + R)/R, u/R],\n",
    "    [v/R,(R + v)/R]\n",
    "])\n",
    "\n",
    "A_q = A-q**2 *D_m\n",
    "display((A_q))\n",
    "# A_q = A+D\n",
    "# Calculate the determinant\n",
    "det_A_q = A_q.det()\n",
    "# Expand and arrange by powers of q\n",
    "det_A_q_expanded = sp.expand(det_A_q)\n",
    "det_A_q_expanded_by_powers = sp.collect(det_A_q_expanded, q)\n",
    "det_A_q_expanded_by_powers\n",
    "# sp.simplify(det_A_q_expanded_by_powers)\n",
    "\n",
    "display(sp.simplify(det_A_q_expanded_by_powers))\n",
    "simplified = sp.simplify((det_A_q_expanded_by_powers.coeff(q,4)))\n",
    "numer, denom = sp.fraction(simplified)\n",
    "\n",
    "# Expand the numerator\n",
    "expanded_numer = sp.expand(numer)\n",
    "\n",
    "# Combine the expanded numerator with the original denominator\n",
    "expanded_fraction = (expanded_numer / denom)\n",
    "simplified = expanded_fraction\n",
    "display(simplified)\n",
    "latex = latex(simplified)\n",
    "print(latex)\n",
    "\n",
    "solution_b = sp.solve(det_A_q, b)[0]\n",
    "solution_b = sp.simplify(solution_b)\n",
    "display(solution_b)\n",
    "print(solution_b)\n"
   ]
  },
  {
   "cell_type": "code",
   "execution_count": 11,
   "metadata": {
    "scrolled": true
   },
   "outputs": [
    {
     "data": {
      "text/latex": [
       "$\\displaystyle D_{1} a^{2} c - 2 D_{1} a b + 2 D_{2} a b - D_{2} a - D_{2} b c + D_{2} c$"
      ],
      "text/plain": [
       "D1*a**2*c - 2*D1*a*b + 2*D2*a*b - D2*a - D2*b*c + D2*c"
      ]
     },
     "metadata": {},
     "output_type": "display_data"
    },
    {
     "data": {
      "text/latex": [
       "$\\displaystyle \\frac{D_{1} D_{2} c q^{4} + D_{1} a^{2} c q^{2} - D_{2} a q^{2} + D_{2} c q^{2} - a^{3} + a^{2} c}{2 D_{1} a q^{2} - 2 D_{2} a q^{2} + D_{2} c q^{2} + a}$"
      ],
      "text/plain": [
       "(D1*D2*c*q**4 + D1*a**2*c*q**2 - D2*a*q**2 + D2*c*q**2 - a**3 + a**2*c)/(2*D1*a*q**2 - 2*D2*a*q**2 + D2*c*q**2 + a)"
      ]
     },
     "metadata": {},
     "output_type": "display_data"
    }
   ],
   "source": [
    "## determinant calculation and neutral curve for determinant\n",
    "\n",
    "A = sp.Matrix([\n",
    "    [(b-1), a**2],\n",
    "    [(-b), (-a**2)]\n",
    "])\n",
    "D_m = sp.Matrix([\n",
    "    [D1*(u + R)/R, D1*u/R],\n",
    "    [D2*v/R,D2*(R + v)/R]\n",
    "])\n",
    "A_q = A-q**2 *D_m\n",
    "\n",
    "det_A_q = A_q.det()\n",
    "det_A_q_expanded = sp.expand(det_A_q)\n",
    "det_A_q_expanded_by_powers = sp.collect(det_A_q_expanded, q)\n",
    "B = sp.simplify(R*(det_A_q_expanded_by_powers.coeff(q,2)))\n",
    "display(B)\n",
    "neutral_curve_det = sp.solve(det_A_q,b)[0]\n",
    "# print(neutral_curve_det)\n",
    "display(neutral_curve_det)\n"
   ]
  },
  {
   "cell_type": "code",
   "execution_count": null,
   "metadata": {},
   "outputs": [],
   "source": []
  },
  {
   "cell_type": "code",
   "execution_count": 30,
   "metadata": {},
   "outputs": [
    {
     "data": {
      "text/latex": [
       "$\\displaystyle - \\frac{D_{1} q^{2} \\left(c - \\frac{b}{a}\\right)}{- a + c - \\frac{b}{a}} - \\frac{D_{2} q^{2} \\left(- a + c\\right)}{- a + c - \\frac{b}{a}} - a^{2} + b - 1$"
      ],
      "text/plain": [
       "-D1*q**2*(c - b/a)/(-a + c - b/a) - D2*q**2*(-a + c)/(-a + c - b/a) - a**2 + b - 1"
      ]
     },
     "metadata": {},
     "output_type": "display_data"
    },
    {
     "data": {
      "text/latex": [
       "$\\displaystyle - D_{1} a c q^{2} + D_{2} a^{2} q^{2} - D_{2} a c q^{2} + a^{4} - a^{3} c + a^{2} - a c - b^{2} + b \\left(D_{1} q^{2} + a c + 1\\right)$"
      ],
      "text/plain": [
       "-D1*a*c*q**2 + D2*a**2*q**2 - D2*a*c*q**2 + a**4 - a**3*c + a**2 - a*c - b**2 + b*(D1*q**2 + a*c + 1)"
      ]
     },
     "metadata": {},
     "output_type": "display_data"
    },
    {
     "name": "stdout",
     "output_type": "stream",
     "text": [
      "-D1*a*c*q**2 + D2*a**2*q**2 - D2*a*c*q**2 + a**4 - a**3*c + a**2 - a*c - b**2 + b*(D1*q**2 + a*c + 1)\n"
     ]
    }
   ],
   "source": [
    "tr_A_q = A_q.trace()\n",
    "display(tr_A_q)\n",
    "tr_A_q_exp = sp.collect(sp.simplify(sp.expand(R*tr_A_q*a)),b)\n",
    "display(tr_A_q_exp)\n",
    "print(tr_A_q_exp)\n",
    "neutral_curve_trace = sp.solve(tr_A_q_exp,b)[1]\n",
    "# print(neutral_curve_trace)\n"
   ]
  },
  {
   "cell_type": "markdown",
   "metadata": {},
   "source": [
    "Plotting the neutral curve for determinant\n"
   ]
  },
  {
   "cell_type": "code",
   "execution_count": 29,
   "metadata": {
    "scrolled": true
   },
   "outputs": [
    {
     "name": "stderr",
     "output_type": "stream",
     "text": [
      "Widget Javascript not detected.  It may not be installed or enabled properly. Reconnecting the current kernel may help.\n"
     ]
    },
    {
     "data": {
      "application/vnd.jupyter.widget-view+json": {
       "model_id": "05a7c3850f8a4056b22f85e624891605"
      }
     },
     "metadata": {},
     "output_type": "display_data"
    },
    {
     "data": {
      "text/plain": [
       "<function __main__.plot_neutral_curve(D1, D2, c, a)>"
      ]
     },
     "execution_count": 29,
     "metadata": {},
     "output_type": "execute_result"
    }
   ],
   "source": [
    " \n",
    "import numpy as np\n",
    "import matplotlib.pyplot as plt\n",
    "from ipywidgets import interact, FloatSlider\n",
    "import ipywidgets as widgets\n",
    "\n",
    "def neutral_curve_tr_positive(D1,D2,c,a,q):\n",
    "    return D1*q**2/2 + a*c/2 + np.sqrt(D1**2*q**4 - 2*D1*a*c*q**2 + 2*D1*q**2 + 4*D2*a**2*q**2\\\n",
    "     - 4*D2*a*c*q**2 + 4*a**4 - 4*a**3*c + a**2*c**2 + 4*a**2 - 2*a*c + 1)/2 + 1/2\n",
    "def neutral_curve_tr_negative(D1,D2,c,a,q):\n",
    "    return D1*q**2/2 + a*c/2 - np.sqrt(D1**2*q**4 - 2*D1*a*c*q**2 + 2*D1*q**2 + 4*D2*a**2*q**2\\\n",
    "     - 4*D2*a*c*q**2 + 4*a**4 - 4*a**3*c + a**2*c**2 + 4*a**2 - 2*a*c + 1)/2 + 1/2\n",
    "    \n",
    "def neutral_curve_det(D1, D2, c, a, q):\n",
    "    \"\"\"Compute the neutral curve b(q).\"\"\"\n",
    "    numerator = D1*D2*c*q**4 + D1*a**2*c*q**2 - D2*a*q**2 + D2*c*q**2 - a**3 + a**2*c\n",
    "    denominator = 2*D1*a*q**2 - 2*D2*a*q**2 + D2*c*q**2 + a\n",
    "    return numerator / denominator\n",
    "\n",
    "def plot_neutral_curve(D1, D2, c, a):\n",
    "    \"\"\"Plot the neutral curve b(q) interactively.\"\"\"\n",
    "    q = np.linspace(0, 10, 4000)  # Avoid q=0 to prevent division by zero\n",
    "    b = neutral_curve_det(D1, D2, c, a, q)\n",
    "    b_trplus=neutral_curve_tr_positive(D1,D2,c,a,q)\n",
    "    b_trminus=neutral_curve_tr_negative(D1,D2,c,a,q)\n",
    "    plt.figure(figsize=(10, 6))\n",
    "    plt.plot(q, b, label=r'$b(q)$')\n",
    "    plt.plot(q,b_trplus, label=r'$trace curve plus$')\n",
    "    plt.plot(q,b_trminus, label=r'$trace curve_minus$')\n",
    "    plt.title('Neutral Curve b(q)')\n",
    "    plt.xlabel(r'$q$')\n",
    "    plt.ylabel(r'$b(q)$')\n",
    "    plt.grid(True)\n",
    "    plt.legend()\n",
    "    plt.ylim(-10, 40)  # Adjust the y-axis limits as needed\n",
    "    plt.show()\n",
    "\n",
    "# Define sliders for the parameters\n",
    "interact(\n",
    "    plot_neutral_curve,\n",
    "    D1=FloatSlider(min=0.1, max=10.0, step=0.1, value=1.0, description='D1'),\n",
    "    D2=FloatSlider(min=0.1, max=300.0, step=0.1, value=1.0, description='D2'),\n",
    "    c=FloatSlider(min=0.1, max=20.0, step=0.1, value=10.0, description='c'),\n",
    "    a=FloatSlider(min=0.1, max=10.0, step=0.1, value=1.0, description='a')\n",
    ")\n"
   ]
  },
  {
   "cell_type": "code",
   "execution_count": 31,
   "metadata": {},
   "outputs": [
    {
     "name": "stderr",
     "output_type": "stream",
     "text": [
      "Widget Javascript not detected.  It may not be installed or enabled properly. Reconnecting the current kernel may help.\n"
     ]
    },
    {
     "data": {
      "application/vnd.jupyter.widget-view+json": {
       "model_id": "7bd8d16b6aa04a0689d455dd2af373ca"
      }
     },
     "metadata": {},
     "output_type": "display_data"
    },
    {
     "data": {
      "text/plain": [
       "<function __main__.plot_f(D1, D2, c, a)>"
      ]
     },
     "execution_count": 31,
     "metadata": {},
     "output_type": "execute_result"
    }
   ],
   "source": [
    "import numpy as np\n",
    "import matplotlib.pyplot as plt\n",
    "from ipywidgets import interact, FloatSlider\n",
    "\n",
    "def f(D1, D2, c, a, b, q):\n",
    "    \"\"\"Compute the function f(b, q).\"\"\"\n",
    "    return (-D1 * a * c * q**2 + D2 * a**2 * q**2 - D2 * a * c * q**2 +\n",
    "            a**4 - a**3 * c + a**2 - a * c - b**2 +\n",
    "            b * (D1 * q**2 + a * c + 1))\n",
    "\n",
    "def plot_f(D1, D2, c, a):\n",
    "    \"\"\"Plot the function f(b, q) as a 2D plot with color-coded values.\"\"\"\n",
    "    q_values = np.linspace(0.1, 10, 400)  # Avoid q=0 to prevent division by zero\n",
    "    b_values = np.linspace(-10, 10, 400)\n",
    "    \n",
    "    Q, B = np.meshgrid(q_values, b_values)\n",
    "    F = f(D1, D2, c, a, B, Q)\n",
    "    \n",
    "    plt.figure(figsize=(10, 6))\n",
    "    plt.contourf(Q, B, F, levels=50, cmap='viridis')\n",
    "    plt.colorbar(label=r'$f(b, q)$')\n",
    "    plt.title(r'Plot of $f(b, q)$')\n",
    "    plt.xlabel(r'$q$')\n",
    "    plt.ylabel(r'$b$')\n",
    "    plt.show()\n",
    "\n",
    "# Define sliders for the parameters\n",
    "interact(\n",
    "    plot_f,\n",
    "    D1=FloatSlider(min=0.1, max=10.0, step=0.1, value=1.0, description='D1'),\n",
    "    D2=FloatSlider(min=0.1, max=10.0, step=0.1, value=1.0, description='D2'),\n",
    "    c=FloatSlider(min=0.1, max=10.0, step=0.1, value=1.0, description='c'),\n",
    "    a=FloatSlider(min=0.1, max=10.0, step=0.1, value=1.0, description='a')\n",
    ")\n"
   ]
  },
  {
   "cell_type": "code",
   "execution_count": 38,
   "metadata": {},
   "outputs": [
    {
     "name": "stderr",
     "output_type": "stream",
     "text": [
      "Widget Javascript not detected.  It may not be installed or enabled properly. Reconnecting the current kernel may help.\n"
     ]
    },
    {
     "data": {
      "application/vnd.jupyter.widget-view+json": {
       "model_id": "01d46bbecbbb4c8fbf9ae3f409cda281"
      }
     },
     "metadata": {},
     "output_type": "display_data"
    },
    {
     "data": {
      "text/plain": [
       "<function __main__.plot_f(D1, D2, c, a)>"
      ]
     },
     "execution_count": 38,
     "metadata": {},
     "output_type": "execute_result"
    }
   ],
   "source": [
    "import numpy as np\n",
    "import matplotlib.pyplot as plt\n",
    "from ipywidgets import interact, FloatSlider\n",
    "\n",
    "def f(D1, D2, c, a, b, q):\n",
    "    \"\"\"Compute the function f(b, q).\"\"\"\n",
    "    return (-D1 * a * c * q**2 + D2 * a**2 * q**2 - D2 * a * c * q**2 +\n",
    "            a**4 - a**3 * c + a**2 - a * c - b**2 +\n",
    "            b * (D1 * q**2 + a * c + 1))\n",
    "\n",
    "def plot_f(D1, D2, c, a):\n",
    "    \"\"\"Plot the function f(b, q) as a 2D plot with color-coded values.\"\"\"\n",
    "    q_values = np.linspace(0, 10, 400)  # Avoid q=0 to prevent division by zero\n",
    "    b_values = np.linspace(0, 40, 400)\n",
    "    \n",
    "    Q, B = np.meshgrid(q_values, b_values)\n",
    "    F = f(D1, D2, c, a, B, Q)\n",
    "    \n",
    "    plt.figure(figsize=(10, 6))\n",
    "    \n",
    "    # Mask values near zero to apply special coloring\n",
    "    masked_F = np.ma.masked_where(np.abs(F) < 0.1, F)\n",
    "    \n",
    "    plt.contourf(Q, B, masked_F, levels=50, cmap='viridis', extend='both')\n",
    "    \n",
    "    # Add colorbar\n",
    "    cbar = plt.colorbar(label=r'$f(b, q)$')\n",
    "    cbar.ax.set_ylabel(r'$f(b, q)$')\n",
    "    \n",
    "    # Set special color for near-zero values\n",
    "    plt.contour(Q, B, F, levels=[-0.1, 0.1], colors='red', linestyles='solid')\n",
    "    plt.contour(Q, B, F, levels=[5, 8], colors='black', linestyles='dotted')\n",
    "\n",
    "    \n",
    "    plt.title(r'Plot of $f(b, q)$')\n",
    "    plt.xlabel(r'$q$')\n",
    "    plt.ylabel(r'$b$')\n",
    "    plt.grid(True)\n",
    "    plt.show()\n",
    "\n",
    "# Define sliders for the parameters\n",
    "interact(\n",
    "    plot_f,\n",
    "    D1=FloatSlider(min=0.1, max=10.0, step=0.1, value=1.0, description='D1'),\n",
    "    D2=FloatSlider(min=0.1, max=10.0, step=0.1, value=1.0, description='D2'),\n",
    "    c=FloatSlider(min=0.1, max=20.0, step=0.1, value=10.0, description='c'),\n",
    "    a=FloatSlider(min=0.1, max=10.0, step=0.1, value=1.0, description='a')\n",
    ")\n"
   ]
  }
 ],
 "metadata": {
  "kernelspec": {
   "display_name": "Python 3 (ipykernel)",
   "language": "python",
   "name": "python3"
  },
  "language_info": {
   "codemirror_mode": {
    "name": "ipython",
    "version": 3
   },
   "file_extension": ".py",
   "mimetype": "text/x-python",
   "name": "python",
   "nbconvert_exporter": "python",
   "pygments_lexer": "ipython3",
   "version": "3.10.12"
  }
 },
 "nbformat": 4,
 "nbformat_minor": 2
}
