{
 "cells": [
  {
   "cell_type": "code",
   "execution_count": 23,
   "metadata": {},
   "outputs": [],
   "source": [
    "import sympy as sp\n",
    "from sympy.printing.latex import latex\n",
    "from IPython.display import display, Math\n",
    "# Define the symbols\n",
    "a, b, c, q, D1,D2 = sp.symbols('a b c q D')\n",
    "# u, v= sp.symbols('u v')\n",
    "\n",
    "# Define u and v\n",
    "u = a\n",
    "v = b / a\n",
    "\n",
    "# Define R\n",
    "R = c - u - v"
   ]
  },
  {
   "cell_type": "code",
   "execution_count": 107,
   "metadata": {},
   "outputs": [
    {
     "data": {
      "text/latex": [
       "$\\displaystyle \\left[\\begin{matrix}- \\frac{D q^{2} \\left(c - \\frac{b}{a}\\right)}{- a + c - \\frac{b}{a}} + b - 1 & - \\frac{D a q^{2}}{- a + c - \\frac{b}{a}} + a^{2}\\\\- \\frac{D b q^{2}}{a \\left(- a + c - \\frac{b}{a}\\right)} - b & - \\frac{D q^{2} \\left(- a + c\\right)}{- a + c - \\frac{b}{a}} - a^{2}\\end{matrix}\\right]$"
      ],
      "text/plain": [
       "Matrix([\n",
       "[-D*q**2*(c - b/a)/(-a + c - b/a) + b - 1,        -D*a*q**2/(-a + c - b/a) + a**2],\n",
       "[        -D*b*q**2/(a*(-a + c - b/a)) - b, -D*q**2*(-a + c)/(-a + c - b/a) - a**2]])"
      ]
     },
     "metadata": {},
     "output_type": "display_data"
    },
    {
     "data": {
      "text/latex": [
       "$\\displaystyle \\frac{a \\left(- D^{2} c q^{4} + D q^{2} \\left(- a^{2} c + a + b c - c\\right) + a^{3} - a^{2} c + a b\\right)}{a^{2} - a c + b}$"
      ],
      "text/plain": [
       "a*(-D**2*c*q**4 + D*q**2*(-a**2*c + a + b*c - c) + a**3 - a**2*c + a*b)/(a**2 - a*c + b)"
      ]
     },
     "metadata": {},
     "output_type": "display_data"
    },
    {
     "data": {
      "text/latex": [
       "$\\displaystyle - \\frac{D^{2} a c}{a^{2} - a c + b}$"
      ],
      "text/plain": [
       "-D**2*a*c/(a**2 - a*c + b)"
      ]
     },
     "metadata": {},
     "output_type": "display_data"
    },
    {
     "name": "stdout",
     "output_type": "stream",
     "text": [
      "- \\frac{D^{2} a c}{a^{2} - a c + b}\n"
     ]
    },
    {
     "data": {
      "text/latex": [
       "$\\displaystyle \\frac{D^{2} c q^{4} + D a^{2} c q^{2} - D a q^{2} + D c q^{2} - a^{3} + a^{2} c}{D c q^{2} + a}$"
      ],
      "text/plain": [
       "(D**2*c*q**4 + D*a**2*c*q**2 - D*a*q**2 + D*c*q**2 - a**3 + a**2*c)/(D*c*q**2 + a)"
      ]
     },
     "metadata": {},
     "output_type": "display_data"
    },
    {
     "name": "stdout",
     "output_type": "stream",
     "text": [
      "(D**2*c*q**4 + D*a**2*c*q**2 - D*a*q**2 + D*c*q**2 - a**3 + a**2*c)/(D*c*q**2 + a)\n"
     ]
    }
   ],
   "source": [
    "\n",
    "\n",
    "# Define the matrix\n",
    "A_q = sp.Matrix([\n",
    "    [(b-1) - q**2 * (u + R)/R, a**2 - q**2 * u/R],\n",
    "    [(-b) - q**2 * v/R, (-a**2) - q**2 * (R + v)/R]\n",
    "])\n",
    "A = sp.Matrix([\n",
    "    [(b-1), a**2],\n",
    "    [(-b), (-a**2)]\n",
    "])\n",
    "D_m = D*sp.Matrix([\n",
    "    [(u + R)/R, u/R],\n",
    "    [v/R,(R + v)/R]\n",
    "])\n",
    "\n",
    "A_q = A-q**2 *D_m\n",
    "display((A_q))\n",
    "# A_q = A+D\n",
    "# Calculate the determinant\n",
    "det_A_q = A_q.det()\n",
    "# Expand and arrange by powers of q\n",
    "det_A_q_expanded = sp.expand(det_A_q)\n",
    "det_A_q_expanded_by_powers = sp.collect(det_A_q_expanded, q)\n",
    "det_A_q_expanded_by_powers\n",
    "# sp.simplify(det_A_q_expanded_by_powers)\n",
    "\n",
    "display(sp.simplify(det_A_q_expanded_by_powers))\n",
    "simplified = sp.simplify((det_A_q_expanded_by_powers.coeff(q,4)))\n",
    "numer, denom = sp.fraction(simplified)\n",
    "\n",
    "# Expand the numerator\n",
    "expanded_numer = sp.expand(numer)\n",
    "\n",
    "# Combine the expanded numerator with the original denominator\n",
    "expanded_fraction = (expanded_numer / denom)\n",
    "simplified = expanded_fraction\n",
    "display(simplified)\n",
    "latex = latex(simplified)\n",
    "print(latex)\n",
    "\n",
    "solution_b = sp.solve(det_A_q, b)[0]\n",
    "solution_b = sp.simplify(solution_b)\n",
    "display(solution_b)\n",
    "print(solution_b)\n"
   ]
  },
  {
   "cell_type": "code",
   "execution_count": 35,
   "metadata": {
    "scrolled": true
   },
   "outputs": [
    {
     "data": {
      "text/latex": [
       "$\\displaystyle \\frac{- 2 D a^{2} b q^{2} + D a^{2} q^{2} + D a b c q^{2} - D a c q^{4} - D a c q^{2} + a^{4} - a^{3} c q^{2} - a^{3} c + 2 a^{2} b q^{2} + a^{2} b}{a^{2} - a c + b}$"
      ],
      "text/plain": [
       "(-2*D*a**2*b*q**2 + D*a**2*q**2 + D*a*b*c*q**2 - D*a*c*q**4 - D*a*c*q**2 + a**4 - a**3*c*q**2 - a**3*c + 2*a**2*b*q**2 + a**2*b)/(a**2 - a*c + b)"
      ]
     },
     "metadata": {},
     "output_type": "display_data"
    },
    {
     "data": {
      "text/latex": [
       "$\\displaystyle - \\frac{D q^{2} \\left(- a + c\\right)}{- a + c - \\frac{b}{a}} - a^{2} + b - \\frac{q^{2} \\left(c - \\frac{b}{a}\\right)}{- a + c - \\frac{b}{a}} - 1$"
      ],
      "text/plain": [
       "-D*q**2*(-a + c)/(-a + c - b/a) - a**2 + b - q**2*(c - b/a)/(-a + c - b/a) - 1"
      ]
     },
     "metadata": {},
     "output_type": "display_data"
    }
   ],
   "source": [
    "## determinant calculation and neutral curve for determinant\n",
    "\n",
    "A = sp.Matrix([\n",
    "    [(b-1), a**2],\n",
    "    [(-b), (-a**2)]\n",
    "])\n",
    "D_m = sp.Matrix([\n",
    "    [D1*(u + R)/R, D1*u/R],\n",
    "    [D2*v/R,D2*(R + v)/R]\n",
    "])\n",
    "A_q = A-q**2 *D_m\n",
    "\n",
    "det_A_q = A_q.det()\n",
    "det_A_q_expanded = sp.expand(det_A_q)\n",
    "det_A_q_expanded_by_powers = sp.collect(det_A_q_expanded, q)\n",
    "B = sp.simplify(R*(det_A_q_expanded_by_powers.coeff(q,2)))\n",
    "display(det_A_q)\n",
    "\n",
    "sp.solve(det_A_q,b)[0]"
   ]
  },
  {
   "cell_type": "code",
   "execution_count": 47,
   "metadata": {},
   "outputs": [
    {
     "data": {
      "text/latex": [
       "$\\displaystyle D a^{2} q^{2} - D a c q^{2} + a^{4} - a^{3} c + a^{2} - a c q^{2} - a c - b^{2} + b \\left(a c + q^{2} + 1\\right)$"
      ],
      "text/plain": [
       "D*a**2*q**2 - D*a*c*q**2 + a**4 - a**3*c + a**2 - a*c*q**2 - a*c - b**2 + b*(a*c + q**2 + 1)"
      ]
     },
     "metadata": {},
     "output_type": "display_data"
    }
   ],
   "source": [
    "tr_A_q = A_q.trace()\n",
    "tr_A_q_exp = sp.collect(sp.simplify(sp.expand(R*tr_A_q*a)),b)\n",
    "display(tr_A_q_exp)\n"
   ]
  }
 ],
 "metadata": {
  "kernelspec": {
   "display_name": "Python 3 (ipykernel)",
   "language": "python",
   "name": "python3"
  },
  "language_info": {
   "codemirror_mode": {
    "name": "ipython",
    "version": 3
   },
   "file_extension": ".py",
   "mimetype": "text/x-python",
   "name": "python",
   "nbconvert_exporter": "python",
   "pygments_lexer": "ipython3",
   "version": "3.11.2"
  }
 },
 "nbformat": 4,
 "nbformat_minor": 2
}
