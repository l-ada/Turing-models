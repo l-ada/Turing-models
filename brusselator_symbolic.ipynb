{
 "cells": [
  {
   "cell_type": "code",
   "execution_count": 11,
   "metadata": {},
   "outputs": [],
   "source": [
    "import sympy as sp\n",
    "from sympy.printing.latex import latex\n",
    "from IPython.display import display, Math\n",
    "# Define the symbols\n",
    "a, b, c, q, D, D1,D2 = sp.symbols('a b c q D D1 D2')\n",
    "# u, v= sp.symbols('u v')\n",
    "\n",
    "# Define u and v\n",
    "u = a\n",
    "v = b / a\n",
    "\n",
    "# Define R\n",
    "R = c - u - v"
   ]
  },
  {
   "cell_type": "code",
   "execution_count": 12,
   "metadata": {},
   "outputs": [
    {
     "data": {
      "text/latex": [
       "$\\displaystyle \\left[\\begin{matrix}- \\frac{D q^{2} \\left(c - \\frac{b}{a}\\right)}{- a + c - \\frac{b}{a}} + b - 1 & - \\frac{D a q^{2}}{- a + c - \\frac{b}{a}} + a^{2}\\\\- \\frac{D b q^{2}}{a \\left(- a + c - \\frac{b}{a}\\right)} - b & - \\frac{D q^{2} \\left(- a + c\\right)}{- a + c - \\frac{b}{a}} - a^{2}\\end{matrix}\\right]$"
      ],
      "text/plain": [
       "Matrix([\n",
       "[-D*q**2*(c - b/a)/(-a + c - b/a) + b - 1,        -D*a*q**2/(-a + c - b/a) + a**2],\n",
       "[        -D*b*q**2/(a*(-a + c - b/a)) - b, -D*q**2*(-a + c)/(-a + c - b/a) - a**2]])"
      ]
     },
     "metadata": {},
     "output_type": "display_data"
    },
    {
     "data": {
      "text/latex": [
       "$\\displaystyle \\frac{a \\left(- D^{2} c q^{4} + D q^{2} \\left(- a^{2} c + a + b c - c\\right) + a^{3} - a^{2} c + a b\\right)}{a^{2} - a c + b}$"
      ],
      "text/plain": [
       "a*(-D**2*c*q**4 + D*q**2*(-a**2*c + a + b*c - c) + a**3 - a**2*c + a*b)/(a**2 - a*c + b)"
      ]
     },
     "metadata": {},
     "output_type": "display_data"
    },
    {
     "data": {
      "text/latex": [
       "$\\displaystyle - \\frac{D^{2} a c}{a^{2} - a c + b}$"
      ],
      "text/plain": [
       "-D**2*a*c/(a**2 - a*c + b)"
      ]
     },
     "metadata": {},
     "output_type": "display_data"
    },
    {
     "name": "stdout",
     "output_type": "stream",
     "text": [
      "- \\frac{D^{2} a c}{a^{2} - a c + b}\n"
     ]
    },
    {
     "data": {
      "text/latex": [
       "$\\displaystyle \\frac{D^{2} c q^{4} + D a^{2} c q^{2} - D a q^{2} + D c q^{2} - a^{3} + a^{2} c}{D c q^{2} + a}$"
      ],
      "text/plain": [
       "(D**2*c*q**4 + D*a**2*c*q**2 - D*a*q**2 + D*c*q**2 - a**3 + a**2*c)/(D*c*q**2 + a)"
      ]
     },
     "metadata": {},
     "output_type": "display_data"
    },
    {
     "name": "stdout",
     "output_type": "stream",
     "text": [
      "(D**2*c*q**4 + D*a**2*c*q**2 - D*a*q**2 + D*c*q**2 - a**3 + a**2*c)/(D*c*q**2 + a)\n"
     ]
    }
   ],
   "source": [
    "\n",
    "\n",
    "# Define the matrix\n",
    "A_q = sp.Matrix([\n",
    "    [(b-1) - q**2 * (u + R)/R, a**2 - q**2 * u/R],\n",
    "    [(-b) - q**2 * v/R, (-a**2) - q**2 * (R + v)/R]\n",
    "])\n",
    "A = sp.Matrix([\n",
    "    [(b-1), a**2],\n",
    "    [(-b), (-a**2)]\n",
    "])\n",
    "D_m = D*sp.Matrix([\n",
    "    [(u + R)/R, u/R],\n",
    "    [v/R,(R + v)/R]\n",
    "])\n",
    "\n",
    "A_q = A-q**2 *D_m\n",
    "display((A_q))\n",
    "# A_q = A+D\n",
    "# Calculate the determinant\n",
    "det_A_q = A_q.det()\n",
    "# Expand and arrange by powers of q\n",
    "det_A_q_expanded = sp.expand(det_A_q)\n",
    "det_A_q_expanded_by_powers = sp.collect(det_A_q_expanded, q)\n",
    "det_A_q_expanded_by_powers\n",
    "# sp.simplify(det_A_q_expanded_by_powers)\n",
    "\n",
    "display(sp.simplify(det_A_q_expanded_by_powers))\n",
    "simplified = sp.simplify((det_A_q_expanded_by_powers.coeff(q,4)))\n",
    "numer, denom = sp.fraction(simplified)\n",
    "\n",
    "# Expand the numerator\n",
    "expanded_numer = sp.expand(numer)\n",
    "\n",
    "# Combine the expanded numerator with the original denominator\n",
    "expanded_fraction = (expanded_numer / denom)\n",
    "simplified = expanded_fraction\n",
    "display(simplified)\n",
    "latex = latex(simplified)\n",
    "print(latex)\n",
    "\n",
    "solution_b = sp.solve(det_A_q, b)[0]\n",
    "solution_b = sp.simplify(solution_b)\n",
    "display(solution_b)\n",
    "print(solution_b)\n"
   ]
  },
  {
   "cell_type": "code",
   "execution_count": 13,
   "metadata": {
    "scrolled": true
   },
   "outputs": [
    {
     "name": "stdout",
     "output_type": "stream",
     "text": [
      "(D1*D2*c*q**4 + D1*a**2*c*q**2 - D2*a*q**2 + D2*c*q**2 - a**3 + a**2*c)/(2*D1*a*q**2 - 2*D2*a*q**2 + D2*c*q**2 + a)\n"
     ]
    },
    {
     "data": {
      "text/latex": [
       "$\\displaystyle \\frac{D_{1} D_{2} c q^{4} + D_{1} a^{2} c q^{2} - D_{2} a q^{2} + D_{2} c q^{2} - a^{3} + a^{2} c}{2 D_{1} a q^{2} - 2 D_{2} a q^{2} + D_{2} c q^{2} + a}$"
      ],
      "text/plain": [
       "(D1*D2*c*q**4 + D1*a**2*c*q**2 - D2*a*q**2 + D2*c*q**2 - a**3 + a**2*c)/(2*D1*a*q**2 - 2*D2*a*q**2 + D2*c*q**2 + a)"
      ]
     },
     "metadata": {},
     "output_type": "display_data"
    }
   ],
   "source": [
    "## determinant calculation and neutral curve for determinant\n",
    "\n",
    "A = sp.Matrix([\n",
    "    [(b-1), a**2],\n",
    "    [(-b), (-a**2)]\n",
    "])\n",
    "# D1 = D\n",
    "# D2 = D\n",
    "D_m = sp.Matrix([\n",
    "    [D1*(u + R)/R, D1*u/R],\n",
    "    [D2*v/R,D2*(R + v)/R]\n",
    "])\n",
    "A_q = A-q**2 *D_m\n",
    "\n",
    "det_A_q = A_q.det()\n",
    "det_A_q_expanded = sp.expand(det_A_q)\n",
    "det_A_q_expanded_by_powers = sp.collect(det_A_q_expanded, q)\n",
    "# print(det_A_q_expanded_by_powers)\n",
    "# l = sp.parsing.sympy_parser.parse_expr(det_A_q_expanded_by_powers)\n",
    "# latex(l)\n",
    "R_times_det = R*det_A_q_expanded\n",
    "# print(sp.simplify(det_A_q*R))\n",
    "# display(det_A_q)\n",
    "B = sp.simplify(R*(det_A_q_expanded_by_powers.coeff(q,2)))\n",
    "# display(B)\n",
    "D1 = D\n",
    "D2 = D\n",
    "neutral_curve_det = sp.solve(det_A_q,b)[0]\n",
    "print(neutral_curve_det)\n",
    "display(neutral_curve_det)\n"
   ]
  },
  {
   "cell_type": "code",
   "execution_count": null,
   "metadata": {},
   "outputs": [],
   "source": []
  },
  {
   "cell_type": "code",
   "execution_count": 14,
   "metadata": {},
   "outputs": [
    {
     "data": {
      "text/latex": [
       "$\\displaystyle - D_{1} a c q^{2} + D_{2} a^{2} q^{2} - D_{2} a c q^{2} + a^{4} - a^{3} c + a^{2} - a c - b^{2} + b \\left(D_{1} q^{2} + a c + 1\\right)$"
      ],
      "text/plain": [
       "-D1*a*c*q**2 + D2*a**2*q**2 - D2*a*c*q**2 + a**4 - a**3*c + a**2 - a*c - b**2 + b*(D1*q**2 + a*c + 1)"
      ]
     },
     "metadata": {},
     "output_type": "display_data"
    },
    {
     "data": {
      "text/latex": [
       "$\\displaystyle \\frac{D_{1} q^{2}}{2} + \\frac{a c}{2} + \\frac{\\sqrt{D_{1}^{2} q^{4} - 2 D_{1} a c q^{2} + 2 D_{1} q^{2} + 4 D_{2} a^{2} q^{2} - 4 D_{2} a c q^{2} + 4 a^{4} - 4 a^{3} c + a^{2} c^{2} + 4 a^{2} - 2 a c + 1}}{2} + \\frac{1}{2}$"
      ],
      "text/plain": [
       "D1*q**2/2 + a*c/2 + sqrt(D1**2*q**4 - 2*D1*a*c*q**2 + 2*D1*q**2 + 4*D2*a**2*q**2 - 4*D2*a*c*q**2 + 4*a**4 - 4*a**3*c + a**2*c**2 + 4*a**2 - 2*a*c + 1)/2 + 1/2"
      ]
     },
     "metadata": {},
     "output_type": "display_data"
    }
   ],
   "source": [
    "tr_A_q = A_q.trace()\n",
    "# display(sp.simplify(sp.expand(tr_A_q)))\n",
    "tr_A_q_exp = sp.collect(sp.simplify(sp.expand(R*tr_A_q*a)),b)\n",
    "display(tr_A_q_exp)\n",
    "neutral_curve_trace = sp.solve(tr_A_q_exp,b)[1]\n",
    "display(neutral_curve_trace)\n"
   ]
  },
  {
   "cell_type": "markdown",
   "metadata": {},
   "source": [
    "Plotting the neutral curve for determinant\n"
   ]
  },
  {
   "cell_type": "code",
   "execution_count": 15,
   "metadata": {
    "scrolled": true
   },
   "outputs": [
    {
     "data": {
      "application/vnd.jupyter.widget-view+json": {
       "model_id": "ef45bbe9bf47483b8206b719966d80db",
       "version_major": 2,
       "version_minor": 0
      },
      "text/plain": [
       "interactive(children=(FloatSlider(value=1.0, description='D1', max=10.0, min=0.1), FloatSlider(value=1.0, desc…"
      ]
     },
     "metadata": {},
     "output_type": "display_data"
    },
    {
     "data": {
      "text/plain": [
       "<function __main__.plot_neutral_curve(D1, D2, c, a)>"
      ]
     },
     "execution_count": 15,
     "metadata": {},
     "output_type": "execute_result"
    }
   ],
   "source": [
    " \n",
    "import numpy as np\n",
    "import matplotlib.pyplot as plt\n",
    "from ipywidgets import interact, FloatSlider\n",
    "import ipywidgets as widgets\n",
    "\n",
    "def neutral_curve_tr_positive(D1,D2,c,a,q):\n",
    "    return D1*q**2/2 + a*c/2 + np.sqrt(D1**2*q**4 - 2*D1*a*c*q**2 + 2*D1*q**2 + 4*D2*a**2*q**2\\\n",
    "     - 4*D2*a*c*q**2 + 4*a**4 - 4*a**3*c + a**2*c**2 + 4*a**2 - 2*a*c + 1)/2 + 1/2\n",
    "def neutral_curve_tr_negative(D1,D2,c,a,q):\n",
    "    return D1*q**2/2 + a*c/2 - np.sqrt(D1**2*q**4 - 2*D1*a*c*q**2 + 2*D1*q**2 + 4*D2*a**2*q**2\\\n",
    "     - 4*D2*a*c*q**2 + 4*a**4 - 4*a**3*c + a**2*c**2 + 4*a**2 - 2*a*c + 1)/2 + 1/2\n",
    "    \n",
    "def neutral_curve_det(D1, D2, c, a, q):\n",
    "    \"\"\"Compute the neutral curve b(q).\"\"\"\n",
    "    numerator = D1*D2*c*q**4 + D1*a**2*c*q**2 - D2*a*q**2 + D2*c*q**2 - a**3 + a**2*c\n",
    "    denominator = 2*D1*a*q**2 - 2*D2*a*q**2 + D2*c*q**2 + a\n",
    "    return numerator / denominator\n",
    "\n",
    "def plot_neutral_curve(D1, D2, c, a):\n",
    "    \"\"\"Plot the neutral curve b(q) interactively.\"\"\"\n",
    "    q = np.linspace(0, 10, 4000)  # Avoid q=0 to prevent division by zero\n",
    "    b = neutral_curve_det(D1, D2, c, a, q)\n",
    "    b_trplus=neutral_curve_tr_positive(D1,D2,c,a,q)\n",
    "    b_trminus=neutral_curve_tr_negative(D1,D2,c,a,q)\n",
    "    plt.figure(figsize=(10, 6))\n",
    "    plt.plot(q, b, label=r'$b(q)$')\n",
    "    plt.plot(q,b_trplus, label=r'$trace curve plus$')\n",
    "    plt.plot(q,b_trminus, label=r'$trace curve_minus$')\n",
    "    plt.title('Neutral Curve b(q)')\n",
    "    plt.xlabel(r'$q$')\n",
    "    plt.ylabel(r'$b(q)$')\n",
    "    plt.grid(True)\n",
    "    plt.legend()\n",
    "    plt.ylim(-10, 40)  # Adjust the y-axis limits as needed\n",
    "    plt.show()\n",
    "\n",
    "# Define sliders for the parameters\n",
    "interact(\n",
    "    plot_neutral_curve,\n",
    "    D1=FloatSlider(min=0.1, max=10.0, step=0.1, value=1.0, description='D1'),\n",
    "    D2=FloatSlider(min=0.1, max=300.0, step=0.1, value=1.0, description='D2'),\n",
    "    c=FloatSlider(min=0.1, max=20.0, step=0.1, value=10.0, description='c'),\n",
    "    a=FloatSlider(min=0.1, max=10.0, step=0.1, value=1.0, description='a')\n",
    ")\n"
   ]
  },
  {
   "cell_type": "code",
   "execution_count": 19,
   "metadata": {
    "scrolled": false
   },
   "outputs": [
    {
     "data": {
      "application/vnd.jupyter.widget-view+json": {
       "model_id": "3ca5f3f1bdbd429f87f7f77182141b86",
       "version_major": 2,
       "version_minor": 0
      },
      "text/plain": [
       "interactive(children=(FloatSlider(value=2.8, description='D1', max=30.0, min=0.1), FloatSlider(value=22.4, des…"
      ]
     },
     "metadata": {},
     "output_type": "display_data"
    },
    {
     "data": {
      "text/plain": [
       "<function __main__.plot_f(D1, D2, c, a, line, save=False)>"
      ]
     },
     "execution_count": 19,
     "metadata": {},
     "output_type": "execute_result"
    }
   ],
   "source": [
    "import numpy as np\n",
    "import matplotlib.pyplot as plt\n",
    "from ipywidgets import interact, FloatSlider\n",
    "import os\n",
    "import datetime\n",
    "def save_plot(fig, folder=\"plots/neutral_curves\"):\n",
    "    \"\"\" Save the given plot figure with a filename that includes the current date and time. \"\"\"\n",
    "    if not os.path.exists(folder):\n",
    "        os.makedirs(folder)\n",
    "    current_time = datetime.datetime.now().strftime(\"%Y%m%d_%H%M%S\")\n",
    "    filename = os.path.join(folder, f\"plot_{current_time}.png\")\n",
    "    fig.savefig(filename)\n",
    "    print(f\"Plot saved as {filename}\")\n",
    "\n",
    "## this should be just trace? Maybe trace * R\n",
    "## This is tr(A_q * R). This doesn't affect the sign, nor the roots, so I'm just getting rid of denominator\n",
    "def trace_times_R(D1, D2, c, a, b, q):\n",
    "    \"\"\"Compute the function f(b, q).\"\"\"\n",
    "    return (-D1 * a * c * q**2 + D2 * a**2 * q**2 - D2 * a * c * q**2 +\\\n",
    "            a**4 - a**3 * c + a**2 - a * c - b**2 +\\\n",
    "            b * (D1 * q**2 + a * c + 1))\n",
    "## det A_q times R function. Doesn't affect roots, nor sign \n",
    "##(because R depends only on a,b,c and there are bounds on b), gets rid of the annoying denominator\n",
    "def det_times_R(D1,D2,c,a,b,q):\n",
    "    return D1*D2*c*q**4 + D1*a**2*c*q**2 - 2*D1*a*b*q**2 +\\\n",
    "        2*D2*a*b*q**2 - D2*a*q**2 - D2*b*c*q**2 + D2*c*q**2 - a**3 + a**2*c - a*b\n",
    "\n",
    "def neutral_curve_det(D1, D2, c, a, q):\n",
    "    \"\"\"Compute the neutral curve b(q).\"\"\"\n",
    "    numerator = D1*D2*c*q**4 + D1*a**2*c*q**2 - D2*a*q**2 + D2*c*q**2 - a**3 + a**2*c\n",
    "    denominator = 2*D1*a*q**2 - 2*D2*a*q**2 + D2*c*q**2 + a\n",
    "    return numerator / denominator\n",
    "def neutral_curve_det_no_interactions(D1, D2, c, a, q):\n",
    "    return a**2/(D2*q**2)+(D2+D1*a**2)/D2+D1*q**2\n",
    "\n",
    "\n",
    "def plot_f(D1, D2, c, a, line, save = False):\n",
    "    \"\"\"Plot the function f(b, q) as a 2D plot with color-coded values.\"\"\"\n",
    "    q_values = np.linspace(0.1, 0.35, 400)  # Avoid q=0 to prevent division by zero\n",
    "    ## maximum b allowed to be taken\n",
    "    max_b = c*a-a*a\n",
    "    b_values = np.linspace(0, min(max_b, 300), 400)\n",
    "    \n",
    "    Q, B = np.meshgrid(q_values, b_values)\n",
    "    F = trace_times_R(D1, D2, c, a, B, Q)\n",
    "    G = det_times_R(D1,D2,c,a,B,Q)\n",
    "    fig = plt.figure(figsize=(10, 6))\n",
    "    \n",
    "    # Mask values near zero to apply special coloring\n",
    "    masked_F = np.ma.masked_where(np.abs(F) < 0.1, F)\n",
    "    \n",
    "    plt.contourf(Q, B, masked_F, levels=50, cmap='viridis', extend='both')\n",
    "    \n",
    "    # Add colorbar\n",
    "    cbar = plt.colorbar(label=r'$f(b, q)$')\n",
    "    cbar.ax.set_ylabel(r'$f(b, q)$')\n",
    "    \n",
    "    # Set special color for near-zero values\n",
    "    plt.contour(Q, B, F, levels=[-0.01, 0.01], colors='red', linestyles='solid')\n",
    "    # plt.contour(Q, B, F, levels=[5,5.1], colors='black', linestyles='dotted')\n",
    "    plt.contour(Q, B, G, levels=[-0.01, 0.01], colors='blue', linestyles='solid')\n",
    "    # plt.contour(Q, B, G, levels=[1,1.1], colors='blue', linestyles='dotted')\n",
    "    plt.plot(q_values, 0*q_values+line)\n",
    "    plt.plot(q_values, 0*q_values+(1+a*(D1/D2)**2))\n",
    "    Dv=D2\n",
    "    Du=D1\n",
    "    plt.plot(q_values, Du*q_values**2+1.+Du/Dv*a**2+a**2/(Dv*q_values**2))\n",
    "\n",
    "    \n",
    "    plt.title(r'Plot of $f(b, q)$')\n",
    "    plt.xlabel(r'$q$')\n",
    "    plt.ylabel(r'$b$')\n",
    "    plt.grid(True)\n",
    "    plt.suptitle(f\"a={a:.2f},c={c:.2f},D0={D1:.2f},D1={D2:.2f}, \\n line={line:.2f}\")\n",
    "    plt.text(1.05, 1.05, 'neutral curve det A_q', fontsize=14, color='blue', transform=plt.gca().transAxes, ha='center')\n",
    "    plt.text(1.05, 1.1, 'neutral curve tr A_q', fontsize=14, color='red', transform=plt.gca().transAxes, ha='center')\n",
    "\n",
    "    plt.show()\n",
    "    if save == True:\n",
    "        save_plot(fig)\n",
    "# Define sliders for the parameters\n",
    "interact(\n",
    "    plot_f,\n",
    "    D1=FloatSlider(min=0.1, max=30.0, step=0.1, value=2.8, description='D1'),\n",
    "    D2=FloatSlider(min=0.1, max=30.0, step=0.1, value=22.4, description='D2'),\n",
    "    c=FloatSlider(min=0.1, max=400.0, step=0.1, value=10.0, description='c'),\n",
    "    a=FloatSlider(min=0.1, max=10.0, step=0.1, value=0.5, description='a'),\n",
    "    line=FloatSlider(min=0.1, max=30.0, step=0.01, value=1.5, description='line b=const')\n",
    ")\n"
   ]
  },
  {
   "cell_type": "code",
   "execution_count": null,
   "metadata": {},
   "outputs": [],
   "source": []
  },
  {
   "cell_type": "code",
   "execution_count": 17,
   "metadata": {},
   "outputs": [
    {
     "data": {
      "image/png": "[encoded data removed]",
      "text/plain": [
       "<Figure size 720x432 with 2 Axes>"
      ]
     },
     "metadata": {
      "needs_background": "light"
     },
     "output_type": "display_data"
    },
    {
     "name": "stdout",
     "output_type": "stream",
     "text": [
      "Plot saved as plots/neutral_curves/plot_20240719_111506.png\n"
     ]
    }
   ],
   "source": [
    "D1,D2 = 1, 2\n",
    "a=3.4\n",
    "c=18\n",
    "line = 13\n",
    "plot_f(D1,D2,c,a, line ,save=True)"
   ]
  },
  {
   "cell_type": "code",
   "execution_count": 21,
   "metadata": {},
   "outputs": [],
   "source": [
    "\n",
    "def neutral_curve_det(D1, D2, c, a, q):\n",
    "    \"\"\"Compute the neutral curve b(q).\"\"\"\n",
    "    numerator = D1*D2*c*q**4 + D1*a**2*c*q**2 - D2*a*q**2 + D2*c*q**2 - a**3 + a**2*c\n",
    "    denominator = 2*D1*a*q**2 - 2*D2*a*q**2 + D2*c*q**2 + a\n",
    "    return numerator / denominator\n",
    "def neutral_curve_det_no_interactions(D1, D2, c, a, q):\n",
    "    return a**2/(D2*q**2)+(D2+D1*a**2)/D2+D1*q**2\n"
   ]
  },
  {
   "cell_type": "code",
   "execution_count": null,
   "metadata": {},
   "outputs": [],
   "source": [
    "import numpy as np\n",
    "import matplotlib.pyplot as plt\n",
    "\n",
    "D1,D2 = 1, 1\n",
    "a=3.4\n",
    "c=18\n",
    "# Define the range for x\n",
    "q = np.linspace(0.1, 5, 400)\n",
    "\n",
    "# Calculate the function values\n",
    "y_f = neutral_curve_det(D1,D2,c,a,q)\n",
    "y_g = neutral_curve_det_no_interactions(D1,D2,c,a,q)\n",
    "\n",
    "# Create the plot\n",
    "plt.figure(figsize=(10, 6))\n",
    "plt.plot(x, y_f, label='f(x) = sin(x)')\n",
    "plt.plot(x, y_g, label='g(x) = cos(x)')\n",
    "plt.title('Plot of Functions f and g')\n",
    "plt.xlabel('x')\n",
    "plt.ylabel('y')\n",
    "plt.ylim(0, 10)\n",
    "plt.legend()\n",
    "plt.grid(True)\n",
    "plt.show()\n"
   ]
  }
 ],
 "metadata": {
  "kernelspec": {
   "display_name": "Python 3 (ipykernel)",
   "language": "python",
   "name": "python3"
  },
  "language_info": {
   "codemirror_mode": {
    "name": "ipython",
    "version": 3
   },
   "file_extension": ".py",
   "mimetype": "text/x-python",
   "name": "python",
   "nbconvert_exporter": "python",
   "pygments_lexer": "ipython3",
   "version": "3.10.12"
  }
 },
 "nbformat": 4,
 "nbformat_minor": 2
}
